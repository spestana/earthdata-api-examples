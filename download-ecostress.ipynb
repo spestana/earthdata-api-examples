{
 "cells": [
  {
   "cell_type": "code",
   "execution_count": 1,
   "metadata": {},
   "outputs": [],
   "source": [
    "import pandas as pd\n",
    "from earthdata_api import earthdata_granule_search"
   ]
  },
  {
   "cell_type": "code",
   "execution_count": 2,
   "metadata": {},
   "outputs": [
    {
     "name": "stdout",
     "output_type": "stream",
     "text": [
      "Only including h5 files in list\n",
      "Writing list of URLs to eco2lste.txt\n",
      "['https://e4ftl01.cr.usgs.gov//ECOB/ECOSTRESS/ECO2LSTE.001/2020.02.11/ECOSTRESS_L2_LSTE_09084_003_20200211T172135_0601_01.h5', 'https://e4ftl01.cr.usgs.gov//ECOB/ECOSTRESS/ECO2LSTE.001/2020.02.11/ECOSTRESS_L2_LSTE_09084_004_20200211T172227_0601_01.h5', 'https://e4ftl01.cr.usgs.gov//ECOB/ECOSTRESS/ECO2LSTE.001/2020.02.11/ECOSTRESS_L2_LSTE_09088_008_20200211T235138_0601_01.h5', 'https://e4ftl01.cr.usgs.gov//ECOB/ECOSTRESS/ECO2LSTE.001/2020.02.11/ECOSTRESS_L2_LSTE_09088_009_20200211T235230_0601_01.h5']\n"
     ]
    }
   ],
   "source": [
    "eco_lste = earthdata_granule_search(product=\"ECO2LSTE\", \n",
    "                                    version=\"001\", \n",
    "                                    bounding_box=[-108.19, 39.03, -108.18, 39.04], \n",
    "                                    timestampsUTC=pd.Timestamp('2020-2-11'), \n",
    "                                    search_time_window=1, \n",
    "                                    search_time_window_units='d', \n",
    "                                    list_filepath='eco2lste.txt', \n",
    "                                    ext='h5')\n",
    "print(eco_lste)"
   ]
  },
  {
   "cell_type": "code",
   "execution_count": 3,
   "metadata": {},
   "outputs": [
    {
     "name": "stdout",
     "output_type": "stream",
     "text": [
      "Only including h5 files in list\n",
      "Writing list of URLs to eco1bgeo.txt\n",
      "['https://e4ftl01.cr.usgs.gov//ECOA/ECOSTRESS/ECO1BGEO.001/2020.02.11/ECOSTRESS_L1B_GEO_09084_003_20200211T172135_0601_01.h5', 'https://e4ftl01.cr.usgs.gov//ECOA/ECOSTRESS/ECO1BGEO.001/2020.02.11/ECOSTRESS_L1B_GEO_09084_004_20200211T172227_0601_01.h5', 'https://e4ftl01.cr.usgs.gov//ECOA/ECOSTRESS/ECO1BGEO.001/2020.02.11/ECOSTRESS_L1B_GEO_09088_008_20200211T235138_0601_01.h5', 'https://e4ftl01.cr.usgs.gov//ECOA/ECOSTRESS/ECO1BGEO.001/2020.02.11/ECOSTRESS_L1B_GEO_09088_009_20200211T235230_0601_01.h5']\n"
     ]
    }
   ],
   "source": [
    "eco_geo = earthdata_granule_search(product=\"ECO1BGEO\", \n",
    "                                    version=\"001\", \n",
    "                                    bounding_box=[-108.19, 39.03, -108.18, 39.04], \n",
    "                                    timestampsUTC=pd.Timestamp('2020-2-11'), \n",
    "                                    search_time_window=1, \n",
    "                                    search_time_window_units='d', \n",
    "                                    list_filepath='eco1bgeo.txt', \n",
    "                                    ext='h5')\n",
    "print(eco_geo)"
   ]
  },
  {
   "cell_type": "markdown",
   "metadata": {},
   "source": [
    "Download with\n",
    "\n",
    "`wget --http-user=YOUR_USERNAME --ask-password --keep-session-cookies --auth-no-challenge=on -c -i eco2lste.txt`\n",
    "\n",
    "and\n",
    "\n",
    "`wget --http-user=YOUR_USERNAME --ask-password --keep-session-cookies --auth-no-challenge=on -c -i eco1bgeo.txt`"
   ]
  },
  {
   "cell_type": "code",
   "execution_count": null,
   "metadata": {},
   "outputs": [],
   "source": []
  }
 ],
 "metadata": {
  "kernelspec": {
   "display_name": "Python 3",
   "language": "python",
   "name": "python3"
  },
  "language_info": {
   "codemirror_mode": {
    "name": "ipython",
    "version": 3
   },
   "file_extension": ".py",
   "mimetype": "text/x-python",
   "name": "python",
   "nbconvert_exporter": "python",
   "pygments_lexer": "ipython3",
   "version": "3.6.7"
  }
 },
 "nbformat": 4,
 "nbformat_minor": 2
}
