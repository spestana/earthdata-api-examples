{
 "cells": [
  {
   "cell_type": "markdown",
   "metadata": {},
   "source": [
    "I have a csv file with all the date/times of ASTER observations I'm using, and I want to now download all the MODIS (MOD021KM) imagery for the same date/times covering the same spot.\n",
    "\n",
    "I'm using the Earthdata API because doing this through their web portal would be a slow and cumbersome process.\n",
    "\n",
    "Some references:\n",
    " * [Earthdata API](https://cmr.earthdata.nasa.gov/search/site/docs/search/api.html)\n",
    " * [MOD021KM product](https://ladsweb.modaps.eosdis.nasa.gov/missions-and-measurements/products/MOD021KM/)"
   ]
  },
  {
   "cell_type": "code",
   "execution_count": 1,
   "metadata": {},
   "outputs": [],
   "source": [
    "import requests\n",
    "import pandas as pd\n",
    "import io"
   ]
  },
  {
   "cell_type": "markdown",
   "metadata": {},
   "source": [
    "I have a csv file with the specific timestamps for MODIS images that I want. (the timestamps are for coincident ASTER images)"
   ]
  },
  {
   "cell_type": "code",
   "execution_count": 2,
   "metadata": {},
   "outputs": [
    {
     "data": {
      "text/html": [
       "<div>\n",
       "<style scoped>\n",
       "    .dataframe tbody tr th:only-of-type {\n",
       "        vertical-align: middle;\n",
       "    }\n",
       "\n",
       "    .dataframe tbody tr th {\n",
       "        vertical-align: top;\n",
       "    }\n",
       "\n",
       "    .dataframe thead th {\n",
       "        text-align: right;\n",
       "    }\n",
       "</style>\n",
       "<table border=\"1\" class=\"dataframe\">\n",
       "  <thead>\n",
       "    <tr style=\"text-align: right;\">\n",
       "      <th></th>\n",
       "      <th>Unnamed: 0</th>\n",
       "      <th>timestampUTC</th>\n",
       "      <th>filepath</th>\n",
       "      <th>datetime</th>\n",
       "    </tr>\n",
       "  </thead>\n",
       "  <tbody>\n",
       "    <tr>\n",
       "      <th>0</th>\n",
       "      <td>0</td>\n",
       "      <td>2017-03-04 18:51:03+00:00</td>\n",
       "      <td>/storage/spestana/ASTER/AST_L1T/geotiff/T/T_ba...</td>\n",
       "      <td>2017-03-04 10:51:03+00:00</td>\n",
       "    </tr>\n",
       "    <tr>\n",
       "      <th>1</th>\n",
       "      <td>1</td>\n",
       "      <td>2017-03-20 18:51:06+00:00</td>\n",
       "      <td>/storage/spestana/ASTER/AST_L1T/geotiff/T/T_ba...</td>\n",
       "      <td>2017-03-20 10:51:06+00:00</td>\n",
       "    </tr>\n",
       "    <tr>\n",
       "      <th>2</th>\n",
       "      <td>2</td>\n",
       "      <td>2017-04-21 18:51:07+00:00</td>\n",
       "      <td>/storage/spestana/ASTER/AST_L1T/geotiff/T/T_ba...</td>\n",
       "      <td>2017-04-21 10:51:07+00:00</td>\n",
       "    </tr>\n",
       "    <tr>\n",
       "      <th>3</th>\n",
       "      <td>3</td>\n",
       "      <td>2017-05-23 18:51:10+00:00</td>\n",
       "      <td>/storage/spestana/ASTER/AST_L1T/geotiff/T/T_ba...</td>\n",
       "      <td>2017-05-23 10:51:10+00:00</td>\n",
       "    </tr>\n",
       "    <tr>\n",
       "      <th>4</th>\n",
       "      <td>4</td>\n",
       "      <td>2017-06-07 06:07:10+00:00</td>\n",
       "      <td>/storage/spestana/ASTER/AST_L1T/geotiff/T/T_ba...</td>\n",
       "      <td>2017-06-06 22:07:10+00:00</td>\n",
       "    </tr>\n",
       "  </tbody>\n",
       "</table>\n",
       "</div>"
      ],
      "text/plain": [
       "   Unnamed: 0               timestampUTC  \\\n",
       "0           0  2017-03-04 18:51:03+00:00   \n",
       "1           1  2017-03-20 18:51:06+00:00   \n",
       "2           2  2017-04-21 18:51:07+00:00   \n",
       "3           3  2017-05-23 18:51:10+00:00   \n",
       "4           4  2017-06-07 06:07:10+00:00   \n",
       "\n",
       "                                            filepath  \\\n",
       "0  /storage/spestana/ASTER/AST_L1T/geotiff/T/T_ba...   \n",
       "1  /storage/spestana/ASTER/AST_L1T/geotiff/T/T_ba...   \n",
       "2  /storage/spestana/ASTER/AST_L1T/geotiff/T/T_ba...   \n",
       "3  /storage/spestana/ASTER/AST_L1T/geotiff/T/T_ba...   \n",
       "4  /storage/spestana/ASTER/AST_L1T/geotiff/T/T_ba...   \n",
       "\n",
       "                    datetime  \n",
       "0  2017-03-04 10:51:03+00:00  \n",
       "1  2017-03-20 10:51:06+00:00  \n",
       "2  2017-04-21 10:51:07+00:00  \n",
       "3  2017-05-23 10:51:10+00:00  \n",
       "4  2017-06-06 22:07:10+00:00  "
      ]
     },
     "execution_count": 2,
     "metadata": {},
     "output_type": "execute_result"
    }
   ],
   "source": [
    "# read in my csv file with the timestamps I want\n",
    "timestamps = pd.read_csv('~/git/goes-cues/aster_AST_L1T_band14_Tuolumne-and-CUES.csv')\n",
    "# preview the first few rows of this dataframe\n",
    "timestamps.head()"
   ]
  },
  {
   "cell_type": "markdown",
   "metadata": {},
   "source": [
    "Select just the first three rows for this example"
   ]
  },
  {
   "cell_type": "code",
   "execution_count": 3,
   "metadata": {},
   "outputs": [],
   "source": [
    "timestamps = timestamps[:3]"
   ]
  },
  {
   "cell_type": "code",
   "execution_count": 4,
   "metadata": {},
   "outputs": [
    {
     "data": {
      "text/html": [
       "<div>\n",
       "<style scoped>\n",
       "    .dataframe tbody tr th:only-of-type {\n",
       "        vertical-align: middle;\n",
       "    }\n",
       "\n",
       "    .dataframe tbody tr th {\n",
       "        vertical-align: top;\n",
       "    }\n",
       "\n",
       "    .dataframe thead th {\n",
       "        text-align: right;\n",
       "    }\n",
       "</style>\n",
       "<table border=\"1\" class=\"dataframe\">\n",
       "  <thead>\n",
       "    <tr style=\"text-align: right;\">\n",
       "      <th></th>\n",
       "      <th>Unnamed: 0</th>\n",
       "      <th>timestampUTC</th>\n",
       "      <th>filepath</th>\n",
       "      <th>datetime</th>\n",
       "    </tr>\n",
       "  </thead>\n",
       "  <tbody>\n",
       "    <tr>\n",
       "      <th>0</th>\n",
       "      <td>0</td>\n",
       "      <td>2017-03-04 18:51:03+00:00</td>\n",
       "      <td>/storage/spestana/ASTER/AST_L1T/geotiff/T/T_ba...</td>\n",
       "      <td>2017-03-04 10:51:03+00:00</td>\n",
       "    </tr>\n",
       "    <tr>\n",
       "      <th>1</th>\n",
       "      <td>1</td>\n",
       "      <td>2017-03-20 18:51:06+00:00</td>\n",
       "      <td>/storage/spestana/ASTER/AST_L1T/geotiff/T/T_ba...</td>\n",
       "      <td>2017-03-20 10:51:06+00:00</td>\n",
       "    </tr>\n",
       "    <tr>\n",
       "      <th>2</th>\n",
       "      <td>2</td>\n",
       "      <td>2017-04-21 18:51:07+00:00</td>\n",
       "      <td>/storage/spestana/ASTER/AST_L1T/geotiff/T/T_ba...</td>\n",
       "      <td>2017-04-21 10:51:07+00:00</td>\n",
       "    </tr>\n",
       "  </tbody>\n",
       "</table>\n",
       "</div>"
      ],
      "text/plain": [
       "   Unnamed: 0               timestampUTC  \\\n",
       "0           0  2017-03-04 18:51:03+00:00   \n",
       "1           1  2017-03-20 18:51:06+00:00   \n",
       "2           2  2017-04-21 18:51:07+00:00   \n",
       "\n",
       "                                            filepath  \\\n",
       "0  /storage/spestana/ASTER/AST_L1T/geotiff/T/T_ba...   \n",
       "1  /storage/spestana/ASTER/AST_L1T/geotiff/T/T_ba...   \n",
       "2  /storage/spestana/ASTER/AST_L1T/geotiff/T/T_ba...   \n",
       "\n",
       "                    datetime  \n",
       "0  2017-03-04 10:51:03+00:00  \n",
       "1  2017-03-20 10:51:06+00:00  \n",
       "2  2017-04-21 10:51:07+00:00  "
      ]
     },
     "execution_count": 4,
     "metadata": {},
     "output_type": "execute_result"
    }
   ],
   "source": [
    "# preview our selection\n",
    "timestamps"
   ]
  },
  {
   "cell_type": "markdown",
   "metadata": {},
   "source": [
    "Set up some of the granule search criteria for Earthdata search API"
   ]
  },
  {
   "cell_type": "code",
   "execution_count": 5,
   "metadata": {},
   "outputs": [],
   "source": [
    "url = \"https://cmr.earthdata.nasa.gov/search/granules.csv?\" #\"https://cmr.earthdata.nasa.gov/search/collections?has_granules_created_at\\[\\]=2015-01-01T19:00:00Z,\"\n",
    "\n",
    "# Product information for the MODIS products I want\n",
    "shortname_id = \"short_name=MOD021KM\" # \"short_name=MOD03\"\n",
    "version = \"version=6.1\"\n",
    "\n",
    "# bounding box around the study area I want to look at (upper Tuolumne River basin)\n",
    "# lower left longitude, lower left latitude, upper right longitude, upper right latitude\n",
    "bounding_box = \"bounding_box[]=-120,37,-118,38\" "
   ]
  },
  {
   "cell_type": "code",
   "execution_count": 6,
   "metadata": {},
   "outputs": [],
   "source": [
    "# empty list to hold modis download URLs\n",
    "modis_urls = []\n",
    "\n",
    "for i, this_timestamp in enumerate(timestamps.timestampUTC):\n",
    "       \n",
    "    # the date is the first 10 characters of the timestamp string\n",
    "    date = str(this_timestamp)[:10]\n",
    "    # hour follows a space after the date\n",
    "    hour_start = str(this_timestamp).split(\" \")[1][:2]\n",
    "    # and search until 1 hour later\n",
    "    hour_end = int(hour_start) + 1\n",
    "    \n",
    "    start_time = \"{date}T{hour_start}:00:00Z\".format(date=date,hour_start=hour_start)\n",
    "    end_time = \"{date}T{hour_end}:00:00Z\".format(date=date,hour_end=hour_end)\n",
    "    time_range = \"temporal=\" + start_time + \",\" + end_time\n",
    "    \n",
    "    # build the whole request URL and make the request.get\n",
    "    response = requests.get(url+\"&\"+shortname_id+\"&\"+version+\"&\"+bounding_box+\"&\"+time_range)\n",
    "    \n",
    "    # read the response CSV and put in a temporary dataframe\n",
    "    df = pd.read_csv(io.StringIO(response.text))\n",
    "    \n",
    "    for modis_url in df['Online Access URLs']:\n",
    "        modis_urls.append(modis_url)"
   ]
  },
  {
   "cell_type": "markdown",
   "metadata": {},
   "source": [
    "We now have urls from EarthData for these files"
   ]
  },
  {
   "cell_type": "code",
   "execution_count": 7,
   "metadata": {},
   "outputs": [
    {
     "data": {
      "text/plain": [
       "['https://ladsweb.modaps.eosdis.nasa.gov/archive/allData/61/MOD021KM/2017/063/MOD021KM.A2017063.1850.061.2017312092219.hdf',\n",
       " 'https://ladsweb.modaps.eosdis.nasa.gov/archive/allData/61/MOD021KM/2017/079/MOD021KM.A2017079.1850.061.2017313021934.hdf',\n",
       " 'https://ladsweb.modaps.eosdis.nasa.gov/archive/allData/61/MOD021KM/2017/111/MOD021KM.A2017111.1850.061.2017314062948.hdf']"
      ]
     },
     "execution_count": 7,
     "metadata": {},
     "output_type": "execute_result"
    }
   ],
   "source": [
    "modis_urls"
   ]
  },
  {
   "cell_type": "markdown",
   "metadata": {},
   "source": [
    "Write the list of URLs out to a text file:"
   ]
  },
  {
   "cell_type": "code",
   "execution_count": 8,
   "metadata": {},
   "outputs": [],
   "source": [
    "with open(\"modis_download_list.txt\", \"w\") as output:\n",
    "    for row in modis_urls:\n",
    "        output.write(str(row) + '\\n')"
   ]
  },
  {
   "cell_type": "markdown",
   "metadata": {},
   "source": [
    "**Download using wget and this text file list of all the MODIS observations**\n",
    "\n",
    "`wget --http-user=YOUR_USERNAME --ask-password --keep-session-cookies --auth-no-challenge=on -c -i modis_download_list.txt`\n",
    "\n",
    "---"
   ]
  }
 ],
 "metadata": {
  "kernelspec": {
   "display_name": "goes-linux",
   "language": "python",
   "name": "goes-linux"
  },
  "language_info": {
   "codemirror_mode": {
    "name": "ipython",
    "version": 3
   },
   "file_extension": ".py",
   "mimetype": "text/x-python",
   "name": "python",
   "nbconvert_exporter": "python",
   "pygments_lexer": "ipython3",
   "version": "3.6.9"
  }
 },
 "nbformat": 4,
 "nbformat_minor": 4
}
